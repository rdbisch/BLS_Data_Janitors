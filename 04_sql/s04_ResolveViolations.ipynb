{
 "cells": [
  {
   "cell_type": "code",
   "execution_count": 1,
   "metadata": {},
   "outputs": [],
   "source": [
    "import pandas as pd"
   ]
  },
  {
   "cell_type": "code",
   "execution_count": 2,
   "metadata": {},
   "outputs": [
    {
     "name": "stderr",
     "output_type": "stream",
     "text": [
      "D:\\Programming\\Anaconda\\Anaconda3\\lib\\site-packages\\IPython\\core\\interactiveshell.py:3057: DtypeWarning: Columns (8) have mixed types. Specify dtype option on import or set low_memory=False.\n",
      "  interactivity=interactivity, compiler=compiler, result=result)\n"
     ]
    }
   ],
   "source": [
    "menu = pd.read_csv(\"../03_python/p02_menu_cleaned.csv.gz\", compression='gzip')\n",
    "menu.fillna('', inplace=True)\n",
    "menuitem = pd.read_csv(\"../03_python/p02_MenuItem_cleaned.csv.gz\", compression='gzip')\n",
    "menuitem.fillna('', inplace=True)\n",
    "dish = pd.read_csv(\"../03_python/p03_dish_cleaned.csv.gz\", compression='gzip')\n",
    "dish.fillna('', inplace=True)"
   ]
  },
  {
   "cell_type": "code",
   "execution_count": 3,
   "metadata": {},
   "outputs": [
    {
     "name": "stderr",
     "output_type": "stream",
     "text": [
      "D:\\Programming\\Anaconda\\Anaconda3\\lib\\site-packages\\ipykernel_launcher.py:5: SettingWithCopyWarning: \n",
      "A value is trying to be set on a copy of a slice from a DataFrame\n",
      "\n",
      "See the caveats in the documentation: http://pandas.pydata.org/pandas-docs/stable/indexing.html#indexing-view-versus-copy\n",
      "  \"\"\"\n"
     ]
    },
    {
     "name": "stdout",
     "output_type": "stream",
     "text": [
      "11578\n"
     ]
    }
   ],
   "source": [
    "sql1=pd.read_csv(\"violated_data/SQL1.csv\")\n",
    "sql1_id_list = dish[dish['id'].isin(sql1['id'])].index.tolist()\n",
    "count=0\n",
    "for i in range(len(sql1_id_list)):\n",
    "    dish['menus_appeared'][sql1_id_list[i]]=sql1['true_menus_count'][i]\n",
    "    count+=1\n",
    "print(count)"
   ]
  },
  {
   "cell_type": "code",
   "execution_count": 4,
   "metadata": {},
   "outputs": [
    {
     "name": "stderr",
     "output_type": "stream",
     "text": [
      "D:\\Programming\\Anaconda\\Anaconda3\\lib\\site-packages\\ipykernel_launcher.py:5: SettingWithCopyWarning: \n",
      "A value is trying to be set on a copy of a slice from a DataFrame\n",
      "\n",
      "See the caveats in the documentation: http://pandas.pydata.org/pandas-docs/stable/indexing.html#indexing-view-versus-copy\n",
      "  \"\"\"\n"
     ]
    },
    {
     "name": "stdout",
     "output_type": "stream",
     "text": [
      "135\n"
     ]
    }
   ],
   "source": [
    "sql2=pd.read_csv(\"violated_data/SQL2.csv\")\n",
    "sql2_id_list = dish[dish['id'].isin(sql2['id'])].index.tolist()\n",
    "count=0\n",
    "for i in range(len(sql2_id_list)):\n",
    "    dish['times_appeared'][sql2_id_list[i]]=sql2['true_menuitem_count'][i]\n",
    "    count+=1\n",
    "print(count)"
   ]
  },
  {
   "cell_type": "code",
   "execution_count": 5,
   "metadata": {},
   "outputs": [
    {
     "name": "stderr",
     "output_type": "stream",
     "text": [
      "D:\\Programming\\Anaconda\\Anaconda3\\lib\\site-packages\\ipykernel_launcher.py:5: SettingWithCopyWarning: \n",
      "A value is trying to be set on a copy of a slice from a DataFrame\n",
      "\n",
      "See the caveats in the documentation: http://pandas.pydata.org/pandas-docs/stable/indexing.html#indexing-view-versus-copy\n",
      "  \"\"\"\n"
     ]
    },
    {
     "name": "stdout",
     "output_type": "stream",
     "text": [
      "2482\n"
     ]
    }
   ],
   "source": [
    "sql3=pd.read_csv(\"violated_data/SQL3.csv\")\n",
    "sql3_id_list = dish[dish['id'].isin(sql3['id'])].index.tolist()\n",
    "count=0\n",
    "for i in range(len(sql3_id_list)):\n",
    "    dish['first_appeared'][sql3_id_list[i]]=sql3['early_date'][i]\n",
    "    count+=1\n",
    "print(count)"
   ]
  },
  {
   "cell_type": "code",
   "execution_count": 6,
   "metadata": {},
   "outputs": [
    {
     "name": "stderr",
     "output_type": "stream",
     "text": [
      "D:\\Programming\\Anaconda\\Anaconda3\\lib\\site-packages\\ipykernel_launcher.py:5: SettingWithCopyWarning: \n",
      "A value is trying to be set on a copy of a slice from a DataFrame\n",
      "\n",
      "See the caveats in the documentation: http://pandas.pydata.org/pandas-docs/stable/indexing.html#indexing-view-versus-copy\n",
      "  \"\"\"\n"
     ]
    },
    {
     "name": "stdout",
     "output_type": "stream",
     "text": [
      "2381\n"
     ]
    }
   ],
   "source": [
    "sql4=pd.read_csv(\"violated_data/SQL4.csv\")\n",
    "sql4_id_list = dish[dish['id'].isin(sql4['id'])].index.tolist()\n",
    "count=0\n",
    "for i in range(len(sql4_id_list)):\n",
    "    dish['last_appeared'][sql4_id_list[i]]=sql4['late_date'][i]\n",
    "    count+=1\n",
    "print(count)"
   ]
  },
  {
   "cell_type": "code",
   "execution_count": 7,
   "metadata": {},
   "outputs": [
    {
     "name": "stderr",
     "output_type": "stream",
     "text": [
      "D:\\Programming\\Anaconda\\Anaconda3\\lib\\site-packages\\ipykernel_launcher.py:5: SettingWithCopyWarning: \n",
      "A value is trying to be set on a copy of a slice from a DataFrame\n",
      "\n",
      "See the caveats in the documentation: http://pandas.pydata.org/pandas-docs/stable/indexing.html#indexing-view-versus-copy\n",
      "  \"\"\"\n"
     ]
    },
    {
     "name": "stdout",
     "output_type": "stream",
     "text": [
      "109077\n"
     ]
    }
   ],
   "source": [
    "sql5=pd.read_csv(\"violated_data/SQL5.csv\")\n",
    "sql5_id_list = dish[dish['id'].isin(sql5['id'])].index.tolist()\n",
    "count=0\n",
    "for i in range(len(sql5_id_list)):\n",
    "    dish['highest_price'][sql5_id_list[i]]=sql5['real_highest_price'][i]\n",
    "    count+=1\n",
    "print(count)"
   ]
  },
  {
   "cell_type": "code",
   "execution_count": 8,
   "metadata": {},
   "outputs": [
    {
     "name": "stderr",
     "output_type": "stream",
     "text": [
      "D:\\Programming\\Anaconda\\Anaconda3\\lib\\site-packages\\ipykernel_launcher.py:5: SettingWithCopyWarning: \n",
      "A value is trying to be set on a copy of a slice from a DataFrame\n",
      "\n",
      "See the caveats in the documentation: http://pandas.pydata.org/pandas-docs/stable/indexing.html#indexing-view-versus-copy\n",
      "  \"\"\"\n"
     ]
    },
    {
     "name": "stdout",
     "output_type": "stream",
     "text": [
      "75003\n"
     ]
    }
   ],
   "source": [
    "sql6=pd.read_csv(\"violated_data/SQL6.csv\")\n",
    "sql6_id_list = dish[dish['id'].isin(sql6['id'])].index.tolist()\n",
    "count=0\n",
    "for i in range(len(sql6_id_list)):\n",
    "    dish['lowest_price'][sql6_id_list[i]]=sql6['real_lowest_price'][i]\n",
    "    count+=1\n",
    "print(count)"
   ]
  },
  {
   "cell_type": "code",
   "execution_count": 9,
   "metadata": {},
   "outputs": [
    {
     "name": "stderr",
     "output_type": "stream",
     "text": [
      "D:\\Programming\\Anaconda\\Anaconda3\\lib\\site-packages\\ipykernel_launcher.py:5: SettingWithCopyWarning: \n",
      "A value is trying to be set on a copy of a slice from a DataFrame\n",
      "\n",
      "See the caveats in the documentation: http://pandas.pydata.org/pandas-docs/stable/indexing.html#indexing-view-versus-copy\n",
      "  \"\"\"\n"
     ]
    },
    {
     "name": "stdout",
     "output_type": "stream",
     "text": [
      "5513\n"
     ]
    }
   ],
   "source": [
    "sql8=pd.read_csv(\"violated_data/SQL8.csv\")\n",
    "sql8_id_list = menu[menu['id'].isin(sql8['id'])].index.tolist()\n",
    "count=0\n",
    "for i in range(len(sql8_id_list)):\n",
    "    menu['dish_count'][sql8_id_list[i]]=sql8['true_dish_count'][i]\n",
    "    count+=1\n",
    "print(count)"
   ]
  },
  {
   "cell_type": "code",
   "execution_count": 10,
   "metadata": {},
   "outputs": [
    {
     "name": "stderr",
     "output_type": "stream",
     "text": [
      "D:\\Programming\\Anaconda\\Anaconda3\\lib\\site-packages\\ipykernel_launcher.py:5: SettingWithCopyWarning: \n",
      "A value is trying to be set on a copy of a slice from a DataFrame\n",
      "\n",
      "See the caveats in the documentation: http://pandas.pydata.org/pandas-docs/stable/indexing.html#indexing-view-versus-copy\n",
      "  \"\"\"\n"
     ]
    },
    {
     "name": "stdout",
     "output_type": "stream",
     "text": [
      "1274\n"
     ]
    }
   ],
   "source": [
    "sql11=pd.read_csv(\"violated_data/SQL11.csv\")\n",
    "sql11_id_list = menuitem[menuitem['id'].isin(sql11['id'])].index.tolist()\n",
    "count=0\n",
    "for i in range(len(sql11_id_list)):\n",
    "    menuitem['high_price'][sql11_id_list[i]]=''\n",
    "    count+=1\n",
    "print(count)"
   ]
  },
  {
   "cell_type": "code",
   "execution_count": 11,
   "metadata": {},
   "outputs": [
    {
     "name": "stderr",
     "output_type": "stream",
     "text": [
      "D:\\Programming\\Anaconda\\Anaconda3\\lib\\site-packages\\ipykernel_launcher.py:5: SettingWithCopyWarning: \n",
      "A value is trying to be set on a copy of a slice from a DataFrame\n",
      "\n",
      "See the caveats in the documentation: http://pandas.pydata.org/pandas-docs/stable/indexing.html#indexing-view-versus-copy\n",
      "  \"\"\"\n"
     ]
    },
    {
     "name": "stdout",
     "output_type": "stream",
     "text": [
      "2886\n"
     ]
    }
   ],
   "source": [
    "sql12=pd.read_csv(\"violated_data/SQL12.csv\")\n",
    "sql12_id_list = menuitem[menuitem['id'].isin(sql12['id'])].index.tolist()\n",
    "count=0\n",
    "for i in range(len(sql12_id_list)):\n",
    "    menuitem['updated_at'][sql12_id_list[i]]=sql12['created_at'][i]\n",
    "    count+=1\n",
    "print(count)"
   ]
  },
  {
   "cell_type": "code",
   "execution_count": 12,
   "metadata": {},
   "outputs": [],
   "source": [
    "menu.to_csv(\"p03_menu_cleaned.csv.gz\", compression='gzip', index = False)\n",
    "menuitem.to_csv(\"p03_menuitem_cleaned.csv.gz\", compression='gzip', index = False)\n",
    "dish.to_csv(\"p03_dish_cleaned.csv.gz\", compression='gzip', index = False)"
   ]
  }
 ],
 "metadata": {
  "kernelspec": {
   "display_name": "Python 3",
   "language": "python",
   "name": "python3"
  },
  "language_info": {
   "codemirror_mode": {
    "name": "ipython",
    "version": 3
   },
   "file_extension": ".py",
   "mimetype": "text/x-python",
   "name": "python",
   "nbconvert_exporter": "python",
   "pygments_lexer": "ipython3",
   "version": "3.7.3"
  }
 },
 "nbformat": 4,
 "nbformat_minor": 2
}
